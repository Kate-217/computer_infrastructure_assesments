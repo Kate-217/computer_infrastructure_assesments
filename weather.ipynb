{
 "cells": [
  {
   "cell_type": "markdown",
   "metadata": {},
   "source": [
    "# Report on the Completion of Tasks 1 to 7"
   ]
  },
  {
   "cell_type": "markdown",
   "metadata": {},
   "source": [
    "## Creating *weather.ipynb*\n",
    "First, I opened Git and set up a workspace in a virtual machine. Using the command line, I created an empty file named *weather.ipynb* with the following command:\n",
    "\n",
    "``` bash\n",
    "touch weather.ipynb\n",
    "```\n"
   ]
  },
  {
   "cell_type": "markdown",
   "metadata": {},
   "source": [
    "## Task 1: Creating Directory Structure\n",
    "\n",
    "I opened a virtual machine and, using the command line in the terminal, created a new directory with the following command:\n",
    "\n",
    "``` bash\n",
    "mkdir data\n",
    "```\n",
    "Next, I needed to create two subdirectories, timestamps and weather. To do this, I navigated to the data directory:\n",
    "\n",
    "``` bash\n",
    "cd data\n",
    "```\n",
    "Then, I created the subdirectories using the mkdir command:\n",
    "\n",
    "``` bash\n",
    "mkdir timestamps\n",
    "```"
   ]
  },
  {
   "cell_type": "markdown",
   "metadata": {},
   "source": [
    "I can try another way of creating a directory with subdirectory:<br>I will remove `data` with command **rm -r**. This command removes a directory eventhough there is a subdirectory.<br> \n",
    "Now I try this:<br> \n",
    "**mkdir -p data/timestamps data/weather**<br> \n",
    "**mkdir -p** creates any necessary intermediate directories if they don't already exist."
   ]
  },
  {
   "cell_type": "markdown",
   "metadata": {},
   "source": [
    "\n"
   ]
  },
  {
   "cell_type": "markdown",
   "metadata": {},
   "source": [
    "## Git \n",
    "To commit and push the changes I type in the command line:\n",
    "``` bash\n",
    "git add\n",
    "git commit <comment>\n",
    "git push\n",
    "```"
   ]
  },
  {
   "cell_type": "markdown",
   "metadata": {},
   "source": [
    "## Task 3: Formatting Timestamps\n",
    "To learn more about the date command and its options, I opened the manual using:\n",
    "```bash\n",
    "man date\n",
    "```\n",
    "After exploring the manual, I tried different date and time formats. To generate a timestamp in the format **20241023_092605**, I used the following command:\n",
    "```bash\n",
    "date +%Y%m%d_%H%M%S\n",
    "```\n",
    "To save this formatted timestamp in a file, appending it to *formatted.txt* located in the *data/timestamps directory*, I used:\n",
    "```bash\n",
    "date +%Y%m%d_%H%M%S >> data/timestamps/formatted.txt\n",
    "```\n",
    "This command appends the formatted timestamp to the file without overwriting its contents."
   ]
  },
  {
   "cell_type": "markdown",
   "metadata": {},
   "source": [
    "## Task 4: Create Timestamped Files\n",
    "\n",
    "I used the following command to create the file:\n",
    "```bash\n",
    "touch `date +%Y%m%d_%H%M%S`.txt\n",
    "```"
   ]
  },
  {
   "cell_type": "markdown",
   "metadata": {},
   "source": [
    "## Task 5: Download Today's Weather Data\n",
    "In this task, I downloaded the latest weather data for the Athenry weather station from Met Éireann using the **wget** command and save it as *weather.json*.\n",
    "\n",
    "First, I changed to the appropriate directory where I wanted to save the file:\n",
    "```bash\n",
    "cd data/weather\n",
    "```\n",
    "To download the weather data from **Met Éireann**, I used the `wget` command with the `-O` option to specify the output file name:\n",
    "```bash\n",
    "wget -O weather.json https://prodapi.metweb.ie/observations/athenry/today\n",
    "```\n",
    "`-O weather.json`: Ensures the downloaded file is saved with the name weather.json.\n",
    "`URL`: The link to the Athenry weather data is https://prodapi.metweb.ie/observations/athenry/today.\n",
    "\n",
    "After the download is complete, confirm that the file has been saved correctly by listing the files in the *data/weather* directory:\n",
    "```bash\n",
    "ls\n",
    "```"
   ]
  },
  {
   "cell_type": "markdown",
   "metadata": {},
   "source": [
    "#### Summary\n",
    "The **wget** command is a tool in Unix-like systems used for downloading files from the web directly via the terminal.\n",
    "**To download a file:**\n",
    "Use the following command to download a file from a specified URL:\n",
    "```bash\n",
    "wget <URL>\n",
    "```\n",
    "**To save the downloaded file with a different name:***\n",
    "You can use the `-O` option to specify the desired file name:\n",
    "```bash\n",
    "wget -O new_filename <URL>\n",
    "```\n",
    "**To download multiple files listed in a text file:**\n",
    "Use the `-i` option followed by the name of the text file containing a list of URLs:\n",
    "```bash\n",
    "wget -i files.txt\n",
    "```"
   ]
  },
  {
   "cell_type": "markdown",
   "metadata": {},
   "source": [
    "\n",
    "## Task 6: Timestamp the Data\n",
    "Modify the command from Task 5 to save the downloaded file with a timestamped name in the format YYYYmmdd_HHMMSS.json."
   ]
  },
  {
   "cell_type": "markdown",
   "metadata": {},
   "source": [
    "I used backticks to set a timestamp as the filename:\n",
    "**wget -O `date +\"%Y%m%d_%H%M%S.json\"` \\<URL>**\n",
    "\n",
    "***Here’s a suggestion from ChatGPT:***\n",
    "Another syntax can achieve the same task: using **\"$(timestamp).txt\"** instead of backticks for command substitution:\n",
    "\n",
    "**wget -O \"$(date +\"%Y%m%d_%H%M%S\").json\" https://prodapi.metweb.ie/observations/athenry/today**"
   ]
  },
  {
   "cell_type": "markdown",
   "metadata": {},
   "source": [
    "## Task 7: Write the Script\n",
    "Write a bash script called weather.sh in the root of your repository. This script should automate the process from Task 6, saving the weather data to the data/weather directory. Make the script executable and test it by running it."
   ]
  },
  {
   "cell_type": "markdown",
   "metadata": {},
   "source": [
    "1. In the root directory, I created a new file named weather.sh\n",
    "2. I opened weather.sh and began the script with a **shebang (#!)**, which indicates the interpreter to use for the script. Here, /bin/bash specifies that this is a bash script. **#! /bin/bash**\n",
    "3. Then, I added the wget command to fetch data from a URL, saving it with a timestamped filename:<br>\n",
    "**wget -O data/weather/`date +\"%Y%m%d_%H%M%S.json\"` https://prodapi.metweb.ie/observations/athenry/today**\n",
    "4. After saving weather.sh, I checked the files in the directory with **ls -al**<br>This command provides detailed file permissions and ownership information. Files are displayed with codes like -rw- or drwxr-xr-x, where:\n",
    "    * **r (read), w (write), and x (execute)** indicate permission levels for the user, group, and others.\n",
    "    * **d** at the beginning indicates a directory, while a **dash (-)** indicates a file.\n",
    "5. To allow weather.sh to be executed, I modified its permissions using chmod: **chmod** changes file permissions. **u+x** grants the user (owner) execute (x) permission. This makes weather.sh an executable script.\n",
    "6. Now that the script is executable. It can be run with command **./weather.sh**\n"
   ]
  },
  {
   "cell_type": "markdown",
   "metadata": {},
   "source": []
  }
 ],
 "metadata": {
  "language_info": {
   "name": "python"
  }
 },
 "nbformat": 4,
 "nbformat_minor": 2
}
