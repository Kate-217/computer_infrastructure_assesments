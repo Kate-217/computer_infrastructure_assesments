{
 "cells": [
  {
   "cell_type": "markdown",
   "metadata": {},
   "source": [
    "# Report on the Completion of Tasks 1 to 7"
   ]
  },
  {
   "cell_type": "markdown",
   "metadata": {},
   "source": [
    "## Creating weather.ipynb\n",
    "First of all I opened my Git and created a workspace in a virtual mashine. I used a command line and created an empty file **weather.ipynb** using command **touch** in a command line in terminal."
   ]
  },
  {
   "cell_type": "markdown",
   "metadata": {},
   "source": [
    "## Task 1: Creating Directory Structure\n",
    "I opened a virtual machine and using the command line in terminal created a new directory by using command **mkdir data**.<br>\n",
    "I need to create two subdirectories `timestamps` and `weather` so I go to the directory `data` **cd data** and use the command **mkdir** again. "
   ]
  },
  {
   "cell_type": "markdown",
   "metadata": {},
   "source": [
    "I can try another way of creating a directory with subdirectory:<br>I will remove `data` with command **rm -r**. This command removes a directory eventhough there is a subdirectory.<br> \n",
    "Now I try this:<br> \n",
    "**mkdir -p data/timestamps data/weather**<br> \n",
    "**mkdir -p** creates any necessary intermediate directories if they don't already exist."
   ]
  },
  {
   "cell_type": "markdown",
   "metadata": {},
   "source": []
  },
  {
   "cell_type": "markdown",
   "metadata": {},
   "source": [
    "# Task 2: Timestamps\n",
    "Navigating to the data/timestamps directory: **cd data/timestamps**.<br>\n",
    "**date >> now.txt** - outputs the current date and time to the file now.txt, which is being created at the same time.<br>\n",
    "**>>** operator appends output.<br>\n",
    "**>** operator overwrites output.<br>\n",
    "Repeating this command 10 times.<br> \n",
    "Verifying that now.txt has the expected content: **more now.txt**"
   ]
  },
  {
   "cell_type": "markdown",
   "metadata": {},
   "source": [
    "## Git \n",
    "To commit and push the changes I type in the command line:\n",
    "* git add .<br>\n",
    "* git commit + comment <br>\n",
    "* git push <br>"
   ]
  },
  {
   "cell_type": "markdown",
   "metadata": {},
   "source": []
  }
 ],
 "metadata": {
  "language_info": {
   "name": "python"
  }
 },
 "nbformat": 4,
 "nbformat_minor": 2
}
