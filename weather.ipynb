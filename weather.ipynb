{
 "cells": [
  {
   "cell_type": "markdown",
   "metadata": {},
   "source": [
    "# Report on the Completion of Tasks 1 to 7"
   ]
  },
  {
   "cell_type": "markdown",
   "metadata": {},
   "source": [
    "## Creating *weather.ipynb*\n",
    "First, I opened Git and set up a workspace in a virtual machine. Using the command line, I created an empty file named *weather.ipynb* with the following command:\n",
    "\n",
    "``` bash\n",
    "touch weather.ipynb\n",
    "```\n"
   ]
  },
  {
   "cell_type": "markdown",
   "metadata": {},
   "source": [
    "## Task 1: Creating Directory Structure\n",
    "\n",
    "I opened a virtual machine and, using the command line in the terminal, created a new directory with the following command:\n",
    "\n",
    "``` bash\n",
    "mkdir data\n",
    "```\n",
    "Next, I needed to create two subdirectories, timestamps and weather. To do this, I navigated to the data directory:\n",
    "\n",
    "``` bash\n",
    "cd data\n",
    "```\n",
    "Then, I created the subdirectories using the mkdir command:\n",
    "\n",
    "``` bash\n",
    "mkdir timestamps\n",
    "```"
   ]
  },
  {
   "cell_type": "markdown",
   "metadata": {},
   "source": [
    "#### Alternative Method: Creating a Directory with Subdirectories\n",
    "\n",
    "I can try another method to create a directory along with its subdirectories. First, I will remove the data directory using the following command:\n",
    "\n",
    "```bash\n",
    "rm -r data\n",
    "```\n",
    "The **rm -r** command removes a directory and all its contents, including subdirectories.\n",
    "\n",
    "Next, I will create the data directory along with its subdirectories timestamps and weather in a single step:\n",
    "\n",
    "```bash\n",
    "mkdir -p data/timestamps data/weather\n",
    "```\n",
    "The **mkdir -p** command creates the specified directory structure, including any intermediate directories, if they don't already exist.\n",
    "\n"
   ]
  },
  {
   "cell_type": "markdown",
   "metadata": {},
   "source": [
    "## Task 2: Timestamps\n",
    "\n",
    "To navigate to the *data/timestamps* directory, I used the following command:\n",
    "```bash\n",
    "cd data/timestamps\n",
    "```\n",
    "\n",
    "To output the current date and time to a file named *now.txt* (creating the file if it doesn’t already exist), use the following command:\n",
    "```bash\n",
    "date >> now.txt\n",
    "```\n",
    "**Explanation of Operators:**<br>\n",
    "`>>`: Appends the output to the file, preserving any existing content.<br>\n",
    "`>`: Overwrites the file, replacing its existing content.\n",
    "\n",
    "I repeated the `date >> now.txt` command 10 times to append 10 timestamps to the file.\n",
    "\n",
    "To verify that *now.txt* contains the expected content, use the following command:\n",
    "\n",
    "```bash\n",
    "more now.txt\n",
    "```\n",
    "This command displays the contents of the file."
   ]
  },
  {
   "cell_type": "markdown",
   "metadata": {},
   "source": [
    "## Git \n",
    "To commit and push the changes I type in the command line:\n",
    "* git add .<br>\n",
    "* git commit + comment <br>\n",
    "* git push <br>"
   ]
  },
  {
   "cell_type": "markdown",
   "metadata": {},
   "source": [
    "# Task 3: Formatting Timestamps\n",
    "I open a manual by **man date** and try different formats of date and time.<br>\n",
    "\n",
    "To get a timestamp in format **20241023_092605** I type **date +%Y%m%d_%H%M%S**.<br>\n",
    "\n",
    "**date +%Y%m%d_%H%M%S >> data/timestamps/formatted.txt** commad appended the output to the new file.\n"
   ]
  },
  {
   "cell_type": "markdown",
   "metadata": {},
   "source": [
    "## Task 4: Create Timestamped Files"
   ]
  },
  {
   "cell_type": "markdown",
   "metadata": {},
   "source": [
    "### Other commands \n",
    "* **ls -ll** outputs all files and subfolders in current directory with additional info.\n",
    "* **man** - outputs manual page for any command, *For example **man date***\n",
    "* **mv** - moves file to another directory. *For example: **mv formatted.txt timestamps***"
   ]
  },
  {
   "cell_type": "markdown",
   "metadata": {},
   "source": [
    "## Task 5: Download Today's Weather Data\n",
    "Change to the data/weather directory.<br>\n",
    "Download the latest weather data for the Athenry weather station from Met Eireann using wget. Use the **\\-O \\<filename>** option to save the file as **weather.json**.\n",
    "The data can be found at this URL:\n",
    "https://prodapi.metweb.ie/observations/athenry/today."
   ]
  },
  {
   "cell_type": "markdown",
   "metadata": {},
   "source": [
    "The **wget** command is a tool in Unix-like systems for downloading files from the web directly from the terminal.<br>\n",
    "* To download a file: **wget \\<URL>**\n",
    "* To save the downloaded file with a different name: **wget -O new_filename \\<URL>** \n",
    "* To download multiple files listed in a text file: **wget -i files.txt \\<URL>**\n",
    "\n",
    "For the task I used  **wget -O weather.json \\<URL>**"
   ]
  },
  {
   "cell_type": "markdown",
   "metadata": {},
   "source": [
    "\n",
    "## Task 6: Timestamp the Data\n",
    "Modify the command from Task 5 to save the downloaded file with a timestamped name in the format YYYYmmdd_HHMMSS.json."
   ]
  },
  {
   "cell_type": "markdown",
   "metadata": {},
   "source": [
    "I used backticks to set a timestamp as the filename:\n",
    "**wget -O `date +\"%Y%m%d_%H%M%S.json\"` \\<URL>**\n",
    "\n",
    "***Here’s a suggestion from ChatGPT:***\n",
    "Another syntax can achieve the same task: using **\"$(timestamp).txt\"** instead of backticks for command substitution:\n",
    "\n",
    "**wget -O \"$(date +\"%Y%m%d_%H%M%S\").json\" https://prodapi.metweb.ie/observations/athenry/today**"
   ]
  },
  {
   "cell_type": "markdown",
   "metadata": {},
   "source": [
    "## Task 7: Write the Script\n",
    "Write a bash script called weather.sh in the root of your repository. This script should automate the process from Task 6, saving the weather data to the data/weather directory. Make the script executable and test it by running it."
   ]
  },
  {
   "cell_type": "markdown",
   "metadata": {},
   "source": [
    "1. In the root directory, I created a new file named weather.sh\n",
    "2. I opened weather.sh and began the script with a **shebang (#!)**, which indicates the interpreter to use for the script. Here, /bin/bash specifies that this is a bash script. **#! /bin/bash**\n",
    "3. Then, I added the wget command to fetch data from a URL, saving it with a timestamped filename:<br>\n",
    "**wget -O data/weather/`date +\"%Y%m%d_%H%M%S.json\"` https://prodapi.metweb.ie/observations/athenry/today**\n",
    "4. After saving weather.sh, I checked the files in the directory with **ls -al**<br>This command provides detailed file permissions and ownership information. Files are displayed with codes like -rw- or drwxr-xr-x, where:\n",
    "    * **r (read), w (write), and x (execute)** indicate permission levels for the user, group, and others.\n",
    "    * **d** at the beginning indicates a directory, while a **dash (-)** indicates a file.\n",
    "5. To allow weather.sh to be executed, I modified its permissions using chmod: **chmod** changes file permissions. **u+x** grants the user (owner) execute (x) permission. This makes weather.sh an executable script.\n",
    "6. Now that the script is executable. It can be run with command **./weather.sh**\n"
   ]
  },
  {
   "cell_type": "markdown",
   "metadata": {},
   "source": []
  }
 ],
 "metadata": {
  "language_info": {
   "name": "python"
  }
 },
 "nbformat": 4,
 "nbformat_minor": 2
}
